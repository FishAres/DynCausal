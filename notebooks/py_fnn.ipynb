{
 "cells": [
  {
   "cell_type": "code",
   "execution_count": 84,
   "metadata": {},
   "outputs": [],
   "source": [
    "import numpy as np\n",
    "import torch\n",
    "import torch.nn.functional as F\n",
    "import matplotlib.pyplot as plt\n",
    "\n",
    "%matplotlib inline"
   ]
  },
  {
   "cell_type": "code",
   "execution_count": 85,
   "metadata": {},
   "outputs": [],
   "source": [
    "def loss_false(code_batch, k=1):\n",
    "    \"\"\"\n",
    "    An activity regularizer based on the False-Nearest-Neighbor\n",
    "    Algorithm of Kennel, Brown, and Arbanel. Phys Rev A. 1992\n",
    "    \n",
    "    Parameters\n",
    "    ----------\n",
    "    code_batch: tensor\n",
    "        (Batch size, Embedding Dimension) tensor of encoded inputs\n",
    "    k: int \n",
    "        The number of nearest neighbors used to compute \n",
    "        neighborhoods.\n",
    "    \"\"\"\n",
    "    batch_size, n_latent = code_batch.shape\n",
    "    \n",
    "    # Fixed parameters\n",
    "    rtol = 20.0\n",
    "    atol = 2.0\n",
    "\n",
    "    # Distance matrix calculation\n",
    "    tri_mask = torch.tril(torch.ones(n_latent, n_latent), diagonal=-1)\n",
    "    batch_masked = tri_mask.unsqueeze(1) * code_batch.unsqueeze(0)\n",
    "    X_sq = torch.sum(batch_masked ** 2, dim=2, keepdim=True)\n",
    "    pdist_vector = X_sq + X_sq.transpose(1, 2) - 2 * torch.bmm(batch_masked, batch_masked.transpose(1, 2))\n",
    "    all_dists = pdist_vector\n",
    "\n",
    "    # Average distances calculation\n",
    "    all_ra = torch.sqrt(\n",
    "        (1 / torch.arange(1, n_latent + 1, dtype=torch.float32)) *\n",
    "        torch.sum(torch.std(batch_masked, dim=0, keepdim=True) ** 2, dim=1).squeeze()\n",
    "    )\n",
    "\n",
    "    # Clip distances to avoid singularities\n",
    "    all_dists = torch.clamp(all_dists, min=1e-14, max=torch.max(all_dists))\n",
    "\n",
    "    # Find k nearest neighbors\n",
    "    _, inds = torch.topk(-all_dists, k=k+1, dim=-1)\n",
    "\n",
    "    # Gather neighbor distances\n",
    "    neighbor_dists_d = torch.gather(all_dists, 2, inds)\n",
    "    neighbor_new_dists = torch.gather(all_dists[1:], 2, inds[:-1])\n",
    "\n",
    "    # Calculate scaled distances\n",
    "    scaled_dist = torch.sqrt(\n",
    "        (neighbor_new_dists - neighbor_dists_d[:-1]) / neighbor_dists_d[:-1]\n",
    "    )\n",
    "\n",
    "    # Apply FNN conditions\n",
    "    is_false_change = scaled_dist > rtol\n",
    "    is_large_jump = neighbor_new_dists > atol * all_ra[:-1, None, None]\n",
    "    is_false_neighbor = torch.logical_or(is_false_change, is_large_jump)\n",
    "\n",
    "    # Count false neighbors\n",
    "    total_false_neighbors = is_false_neighbor[..., 1:(k+1)].int()\n",
    "\n",
    "    # Calculate regularization weights\n",
    "    reg_weights = 1 - torch.mean(total_false_neighbors.float(), dim=(1, 2))\n",
    "    reg_weights = F.pad(reg_weights, (1, 0))\n",
    "\n",
    "    # Calculate batch-averaged activations\n",
    "    activations_batch_averaged = torch.sqrt(torch.mean(code_batch ** 2, dim=0))\n",
    "\n",
    "    # Compute final loss\n",
    "    loss = torch.sum(reg_weights * activations_batch_averaged)\n",
    "\n",
    "    return loss.float()"
   ]
  },
  {
   "cell_type": "code",
   "execution_count": 86,
   "metadata": {},
   "outputs": [],
   "source": [
    "code_batch = torch.cumsum(torch.ones((32, 6)), axis=1)"
   ]
  },
  {
   "cell_type": "code",
   "execution_count": 88,
   "metadata": {},
   "outputs": [
    {
     "data": {
      "text/plain": [
       "tensor(20.)"
      ]
     },
     "execution_count": 88,
     "metadata": {},
     "output_type": "execute_result"
    }
   ],
   "source": []
  }
 ],
 "metadata": {
  "kernelspec": {
   "display_name": "pytorch",
   "language": "python",
   "name": "python3"
  },
  "language_info": {
   "codemirror_mode": {
    "name": "ipython",
    "version": 3
   },
   "file_extension": ".py",
   "mimetype": "text/x-python",
   "name": "python",
   "nbconvert_exporter": "python",
   "pygments_lexer": "ipython3",
   "version": "3.9.18"
  }
 },
 "nbformat": 4,
 "nbformat_minor": 2
}
