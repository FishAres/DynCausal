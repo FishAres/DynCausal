{
 "cells": [
  {
   "cell_type": "code",
   "execution_count": 1,
   "metadata": {},
   "outputs": [],
   "source": [
    "import numpy as np\n",
    "import tensorflow as tf\n",
    "import matplotlib.pyplot as plt\n",
    "\n",
    "%matplotlib inline"
   ]
  },
  {
   "cell_type": "code",
   "execution_count": 3,
   "metadata": {},
   "outputs": [],
   "source": [
    "code_batch = tf.random.normal((32, 10))"
   ]
  },
  {
   "cell_type": "code",
   "execution_count": 7,
   "metadata": {},
   "outputs": [],
   "source": [
    "_, n_latent = code_batch.get_shape()\n",
    "rtol = 20.0\n",
    "atol = 2.0"
   ]
  },
  {
   "cell_type": "code",
   "execution_count": 41,
   "metadata": {},
   "outputs": [],
   "source": [
    "# distance vector calculation\n",
    "tri_mask = tf.linalg.band_part(tf.ones((n_latent, n_latent), tf.float32), -1, 0)\n",
    "batch_masked = tf.multiply(tri_mask[:, tf.newaxis, :], code_batch[tf.newaxis, ...])\n",
    "X_sq = tf.reduce_sum(batch_masked * batch_masked, axis=2, keepdims=True)\n",
    "pdist_vector = (\n",
    "    X_sq\n",
    "    + tf.transpose(X_sq, [0, 2, 1])\n",
    "    - 2 * tf.matmul(batch_masked, tf.transpose(batch_masked, [0, 2, 1]))\n",
    ")\n",
    "all_dists = pdist_vector"
   ]
  },
  {
   "cell_type": "code",
   "execution_count": 42,
   "metadata": {},
   "outputs": [],
   "source": [
    "all_ra = tf.sqrt(1 / (tf.range(1, 1 + n_latent, dtype=tf.float32))) * tf.squeeze(\n",
    "    tf.reduce_sum(\n",
    "        tf.square(tf.math.reduce_std(batch_masked, axis=1, keepdims=True)),\n",
    "        axis=2,\n",
    "    )\n",
    ")"
   ]
  },
  {
   "cell_type": "code",
   "execution_count": 43,
   "metadata": {},
   "outputs": [],
   "source": [
    "k = 1\n",
    "all_dists = tf.clip_by_value(all_dists, 1e-14, tf.reduce_max(all_dists))\n",
    "_, inds = tf.math.top_k(-all_dists, int(k + 1))\n",
    "neighbor_dists_d = tf.gather(all_dists, inds, batch_dims=-1)\n",
    "neighbor_new_dists = tf.gather(all_dists[1:], inds[:-1], batch_dims=-1)\n",
    "scaled_dist = tf.sqrt(\n",
    "    (neighbor_new_dists - neighbor_dists_d[:-1]) / neighbor_dists_d[:-1]\n",
    ")"
   ]
  },
  {
   "cell_type": "code",
   "execution_count": 47,
   "metadata": {},
   "outputs": [],
   "source": [
    "is_false_change = scaled_dist > rtol\n",
    "is_large_jump = neighbor_new_dists > atol * all_ra[:-1, tf.newaxis, tf.newaxis]\n",
    "is_false_neighbor = tf.math.logical_or(is_false_change, is_large_jump)\n",
    "total_false_neighbors = tf.cast(is_false_neighbor, tf.int32)[..., 1 : (k + 1)]"
   ]
  }
 ],
 "metadata": {
  "kernelspec": {
   "display_name": "pytorch",
   "language": "python",
   "name": "python3"
  },
  "language_info": {
   "codemirror_mode": {
    "name": "ipython",
    "version": 3
   },
   "file_extension": ".py",
   "mimetype": "text/x-python",
   "name": "python",
   "nbconvert_exporter": "python",
   "pygments_lexer": "ipython3",
   "version": "3.9.18"
  }
 },
 "nbformat": 4,
 "nbformat_minor": 2
}
